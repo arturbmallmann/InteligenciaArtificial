{
 "cells": [
  {
   "cell_type": "markdown",
   "metadata": {},
   "source": [
    "# KNN Nearest Neighbors com Python\n",
    "\n",
    "O Scikit-learn é uma biblioteca de aprendizado de máquina muito popular para Python. Neste kernel, vamos usá-lo para criar um modelo de aprendizado de máquina usando o algoritmo k-Nearest Neighbours para prever se os pacientes no \"Pima Indians Diabetes Dataset\" têm diabetes ou não.\n",
    "\n",
    "\n",
    " <img src='diabetes.jpg' /></a>\n",
    "\n",
    "\n",
    "\n",
    "Este dataset **\"diabetes.csv\"** possui informações dispostas em colunas sobre os exames dos pacientes para idicação de diabetes:\n",
    "\n",
    "* **Pregnancies**:  Número de gravidez da paciente.\n",
    "* **Glucose**:  Taxa de glicose.\n",
    "* **BloodPressure**:  Presssão sanguínea.\n",
    "* **SkinThickness**:  Espessura da pele.\n",
    "* **Insulin**:  Quantidade de insulina no sangue.\n",
    "* **BMI**: Índice de Massa Corporal.\n",
    "* **DiabetesPedigreeFunction**: Função que representa a probabilidade de contrair a doença extrapolando da história de seus ancestrais.\n",
    "* **Age**: Idade do paciente.\n",
    "* **Outcome**: Resultado, 0-negativo e 1-positivo.\n",
    "\n",
    "\n",
    "\n"
   ]
  },
  {
   "cell_type": "markdown",
   "metadata": {},
   "source": [
    "\n",
    "## Importar bibliotecas\n",
    "\n"
   ]
  },
  {
   "cell_type": "code",
   "execution_count": 1,
   "metadata": {},
   "outputs": [],
   "source": [
    "import pandas as pd\n",
    "import seaborn as sns\n",
    "import matplotlib.pyplot as plt\n",
    "import numpy as np\n",
    "%matplotlib inline"
   ]
  },
  {
   "cell_type": "markdown",
   "metadata": {},
   "source": [
    "## Obter os dados"
   ]
  },
  {
   "cell_type": "code",
   "execution_count": 2,
   "metadata": {},
   "outputs": [],
   "source": [
    "df = pd.read_csv(\"diabetes.csv\")"
   ]
  },
  {
   "cell_type": "code",
   "execution_count": 3,
   "metadata": {},
   "outputs": [
    {
     "data": {
      "text/html": [
       "<div>\n",
       "<style scoped>\n",
       "    .dataframe tbody tr th:only-of-type {\n",
       "        vertical-align: middle;\n",
       "    }\n",
       "\n",
       "    .dataframe tbody tr th {\n",
       "        vertical-align: top;\n",
       "    }\n",
       "\n",
       "    .dataframe thead th {\n",
       "        text-align: right;\n",
       "    }\n",
       "</style>\n",
       "<table border=\"1\" class=\"dataframe\">\n",
       "  <thead>\n",
       "    <tr style=\"text-align: right;\">\n",
       "      <th></th>\n",
       "      <th>Pregnancies</th>\n",
       "      <th>Glucose</th>\n",
       "      <th>BloodPressure</th>\n",
       "      <th>SkinThickness</th>\n",
       "      <th>Insulin</th>\n",
       "      <th>BMI</th>\n",
       "      <th>DiabetesPedigreeFunction</th>\n",
       "      <th>Age</th>\n",
       "      <th>Outcome</th>\n",
       "    </tr>\n",
       "  </thead>\n",
       "  <tbody>\n",
       "    <tr>\n",
       "      <th>0</th>\n",
       "      <td>6</td>\n",
       "      <td>148</td>\n",
       "      <td>72</td>\n",
       "      <td>35</td>\n",
       "      <td>0</td>\n",
       "      <td>33.6</td>\n",
       "      <td>0.627</td>\n",
       "      <td>50</td>\n",
       "      <td>1</td>\n",
       "    </tr>\n",
       "    <tr>\n",
       "      <th>1</th>\n",
       "      <td>1</td>\n",
       "      <td>85</td>\n",
       "      <td>66</td>\n",
       "      <td>29</td>\n",
       "      <td>0</td>\n",
       "      <td>26.6</td>\n",
       "      <td>0.351</td>\n",
       "      <td>31</td>\n",
       "      <td>0</td>\n",
       "    </tr>\n",
       "    <tr>\n",
       "      <th>2</th>\n",
       "      <td>8</td>\n",
       "      <td>183</td>\n",
       "      <td>64</td>\n",
       "      <td>0</td>\n",
       "      <td>0</td>\n",
       "      <td>23.3</td>\n",
       "      <td>0.672</td>\n",
       "      <td>32</td>\n",
       "      <td>1</td>\n",
       "    </tr>\n",
       "    <tr>\n",
       "      <th>3</th>\n",
       "      <td>1</td>\n",
       "      <td>89</td>\n",
       "      <td>66</td>\n",
       "      <td>23</td>\n",
       "      <td>94</td>\n",
       "      <td>28.1</td>\n",
       "      <td>0.167</td>\n",
       "      <td>21</td>\n",
       "      <td>0</td>\n",
       "    </tr>\n",
       "    <tr>\n",
       "      <th>4</th>\n",
       "      <td>0</td>\n",
       "      <td>137</td>\n",
       "      <td>40</td>\n",
       "      <td>35</td>\n",
       "      <td>168</td>\n",
       "      <td>43.1</td>\n",
       "      <td>2.288</td>\n",
       "      <td>33</td>\n",
       "      <td>1</td>\n",
       "    </tr>\n",
       "  </tbody>\n",
       "</table>\n",
       "</div>"
      ],
      "text/plain": [
       "   Pregnancies  Glucose  BloodPressure  SkinThickness  Insulin   BMI  \\\n",
       "0            6      148             72             35        0  33.6   \n",
       "1            1       85             66             29        0  26.6   \n",
       "2            8      183             64              0        0  23.3   \n",
       "3            1       89             66             23       94  28.1   \n",
       "4            0      137             40             35      168  43.1   \n",
       "\n",
       "   DiabetesPedigreeFunction  Age  Outcome  \n",
       "0                     0.627   50        1  \n",
       "1                     0.351   31        0  \n",
       "2                     0.672   32        1  \n",
       "3                     0.167   21        0  \n",
       "4                     2.288   33        1  "
      ]
     },
     "execution_count": 3,
     "metadata": {},
     "output_type": "execute_result"
    }
   ],
   "source": [
    "df.head()"
   ]
  },
  {
   "cell_type": "markdown",
   "metadata": {},
   "source": [
    "## Normalizar as variáveis\n",
    "\n",
    "Como o classificador KNN prediz a classe de uma determinada observação de teste, identificando as observações mais próximas a ela, a escala das variáveis é importante. Quaisquer variáveis que estão em escala grande terão um efeito muito maior na distância entre as observações e, portanto, no classificador KNN, do que as variáveis que estão em escala pequena."
   ]
  },
  {
   "cell_type": "code",
   "execution_count": 4,
   "metadata": {},
   "outputs": [],
   "source": [
    "from sklearn.preprocessing import StandardScaler"
   ]
  },
  {
   "cell_type": "code",
   "execution_count": 5,
   "metadata": {},
   "outputs": [],
   "source": [
    "scaler = StandardScaler()"
   ]
  },
  {
   "cell_type": "code",
   "execution_count": 6,
   "metadata": {},
   "outputs": [
    {
     "data": {
      "text/plain": [
       "StandardScaler()"
      ]
     },
     "execution_count": 6,
     "metadata": {},
     "output_type": "execute_result"
    }
   ],
   "source": [
    "scaler.fit(df.drop('Outcome',axis=1))"
   ]
  },
  {
   "cell_type": "code",
   "execution_count": 7,
   "metadata": {},
   "outputs": [],
   "source": [
    "scaled_features = scaler.transform(df.drop('Outcome',axis=1))"
   ]
  },
  {
   "cell_type": "code",
   "execution_count": 8,
   "metadata": {},
   "outputs": [
    {
     "data": {
      "text/html": [
       "<div>\n",
       "<style scoped>\n",
       "    .dataframe tbody tr th:only-of-type {\n",
       "        vertical-align: middle;\n",
       "    }\n",
       "\n",
       "    .dataframe tbody tr th {\n",
       "        vertical-align: top;\n",
       "    }\n",
       "\n",
       "    .dataframe thead th {\n",
       "        text-align: right;\n",
       "    }\n",
       "</style>\n",
       "<table border=\"1\" class=\"dataframe\">\n",
       "  <thead>\n",
       "    <tr style=\"text-align: right;\">\n",
       "      <th></th>\n",
       "      <th>Pregnancies</th>\n",
       "      <th>Glucose</th>\n",
       "      <th>BloodPressure</th>\n",
       "      <th>SkinThickness</th>\n",
       "      <th>Insulin</th>\n",
       "      <th>BMI</th>\n",
       "      <th>DiabetesPedigreeFunction</th>\n",
       "      <th>Age</th>\n",
       "    </tr>\n",
       "  </thead>\n",
       "  <tbody>\n",
       "    <tr>\n",
       "      <th>0</th>\n",
       "      <td>0.639947</td>\n",
       "      <td>0.848324</td>\n",
       "      <td>0.149641</td>\n",
       "      <td>0.907270</td>\n",
       "      <td>-0.692891</td>\n",
       "      <td>0.204013</td>\n",
       "      <td>0.468492</td>\n",
       "      <td>1.425995</td>\n",
       "    </tr>\n",
       "    <tr>\n",
       "      <th>1</th>\n",
       "      <td>-0.844885</td>\n",
       "      <td>-1.123396</td>\n",
       "      <td>-0.160546</td>\n",
       "      <td>0.530902</td>\n",
       "      <td>-0.692891</td>\n",
       "      <td>-0.684422</td>\n",
       "      <td>-0.365061</td>\n",
       "      <td>-0.190672</td>\n",
       "    </tr>\n",
       "    <tr>\n",
       "      <th>2</th>\n",
       "      <td>1.233880</td>\n",
       "      <td>1.943724</td>\n",
       "      <td>-0.263941</td>\n",
       "      <td>-1.288212</td>\n",
       "      <td>-0.692891</td>\n",
       "      <td>-1.103255</td>\n",
       "      <td>0.604397</td>\n",
       "      <td>-0.105584</td>\n",
       "    </tr>\n",
       "    <tr>\n",
       "      <th>3</th>\n",
       "      <td>-0.844885</td>\n",
       "      <td>-0.998208</td>\n",
       "      <td>-0.160546</td>\n",
       "      <td>0.154533</td>\n",
       "      <td>0.123302</td>\n",
       "      <td>-0.494043</td>\n",
       "      <td>-0.920763</td>\n",
       "      <td>-1.041549</td>\n",
       "    </tr>\n",
       "    <tr>\n",
       "      <th>4</th>\n",
       "      <td>-1.141852</td>\n",
       "      <td>0.504055</td>\n",
       "      <td>-1.504687</td>\n",
       "      <td>0.907270</td>\n",
       "      <td>0.765836</td>\n",
       "      <td>1.409746</td>\n",
       "      <td>5.484909</td>\n",
       "      <td>-0.020496</td>\n",
       "    </tr>\n",
       "  </tbody>\n",
       "</table>\n",
       "</div>"
      ],
      "text/plain": [
       "   Pregnancies   Glucose  BloodPressure  SkinThickness   Insulin       BMI  \\\n",
       "0     0.639947  0.848324       0.149641       0.907270 -0.692891  0.204013   \n",
       "1    -0.844885 -1.123396      -0.160546       0.530902 -0.692891 -0.684422   \n",
       "2     1.233880  1.943724      -0.263941      -1.288212 -0.692891 -1.103255   \n",
       "3    -0.844885 -0.998208      -0.160546       0.154533  0.123302 -0.494043   \n",
       "4    -1.141852  0.504055      -1.504687       0.907270  0.765836  1.409746   \n",
       "\n",
       "   DiabetesPedigreeFunction       Age  \n",
       "0                  0.468492  1.425995  \n",
       "1                 -0.365061 -0.190672  \n",
       "2                  0.604397 -0.105584  \n",
       "3                 -0.920763 -1.041549  \n",
       "4                  5.484909 -0.020496  "
      ]
     },
     "execution_count": 8,
     "metadata": {},
     "output_type": "execute_result"
    }
   ],
   "source": [
    "df_feat = pd.DataFrame(scaled_features,columns=df.columns[:-1])\n",
    "df_feat.head()"
   ]
  },
  {
   "cell_type": "markdown",
   "metadata": {},
   "source": [
    "## Train Test Split\n",
    "\n",
    "Vamos dividir os dados aleatoriamente em conjunto de treinamento e teste.\n",
    "\n",
    "Ajustaremos / treinaremos um classificador no conjunto de treinamento e faremos previsões no conjunto de teste. Em seguida, compararemos as previsões com os rótulos conhecidos.\n",
    "\n",
    "O Scikit-learn fornece facilidade para dividir dados em conjunto de treinamento e teste usando o método train_test_split."
   ]
  },
  {
   "cell_type": "code",
   "execution_count": 9,
   "metadata": {},
   "outputs": [],
   "source": [
    "from sklearn.model_selection import train_test_split"
   ]
  },
  {
   "cell_type": "code",
   "execution_count": 10,
   "metadata": {},
   "outputs": [],
   "source": [
    "X_train, X_test, y_train, y_test = train_test_split(scaled_features,df['Outcome'],\n",
    "                                                    test_size=0.30)"
   ]
  },
  {
   "cell_type": "markdown",
   "metadata": {},
   "source": [
    "## Usando o KNN\n",
    "\n",
    "Lembre-se de que estamos tentando criar um modelo para prever se alguém irá ou não atingir a CLASSE ALVO. Começaremos com k = 1."
   ]
  },
  {
   "cell_type": "code",
   "execution_count": 11,
   "metadata": {},
   "outputs": [],
   "source": [
    "from sklearn.neighbors import KNeighborsClassifier"
   ]
  },
  {
   "cell_type": "code",
   "execution_count": 12,
   "metadata": {},
   "outputs": [],
   "source": [
    "knn = KNeighborsClassifier(n_neighbors=1)"
   ]
  },
  {
   "cell_type": "code",
   "execution_count": 13,
   "metadata": {},
   "outputs": [
    {
     "data": {
      "text/plain": [
       "KNeighborsClassifier(n_neighbors=1)"
      ]
     },
     "execution_count": 13,
     "metadata": {},
     "output_type": "execute_result"
    }
   ],
   "source": [
    "knn.fit(X_train,y_train)"
   ]
  },
  {
   "cell_type": "code",
   "execution_count": 14,
   "metadata": {},
   "outputs": [],
   "source": [
    "pred = knn.predict(X_test)"
   ]
  },
  {
   "cell_type": "markdown",
   "metadata": {},
   "source": [
    "\n",
    "## Previsões e avaliações\n",
    "\n",
    "Vamos avaliar o nosso modelo KNN!"
   ]
  },
  {
   "cell_type": "code",
   "execution_count": 15,
   "metadata": {},
   "outputs": [],
   "source": [
    "from sklearn.metrics import classification_report,confusion_matrix"
   ]
  },
  {
   "cell_type": "code",
   "execution_count": 16,
   "metadata": {},
   "outputs": [
    {
     "name": "stdout",
     "output_type": "stream",
     "text": [
      "[[122  27]\n",
      " [ 37  45]]\n"
     ]
    }
   ],
   "source": [
    "print(confusion_matrix(y_test,pred))"
   ]
  },
  {
   "cell_type": "code",
   "execution_count": 17,
   "metadata": {},
   "outputs": [
    {
     "name": "stdout",
     "output_type": "stream",
     "text": [
      "              precision    recall  f1-score   support\n",
      "\n",
      "           0       0.77      0.82      0.79       149\n",
      "           1       0.62      0.55      0.58        82\n",
      "\n",
      "    accuracy                           0.72       231\n",
      "   macro avg       0.70      0.68      0.69       231\n",
      "weighted avg       0.72      0.72      0.72       231\n",
      "\n"
     ]
    }
   ],
   "source": [
    "print(classification_report(y_test,pred))"
   ]
  },
  {
   "cell_type": "markdown",
   "metadata": {},
   "source": [
    "\n",
    "## Escolhendo o valor de K\n",
    "\n",
    "Vamos em frente e use o método cotovelo para escolher um bom valor de K:"
   ]
  },
  {
   "cell_type": "code",
   "execution_count": 18,
   "metadata": {},
   "outputs": [
    {
     "name": "stdout",
     "output_type": "stream",
     "text": [
      "erro: 0.27705627705627706 k:1 recall:  0.5487804878048781\n",
      "erro: 0.33766233766233766 k:2 recall:  0.2682926829268293\n",
      "erro: 0.2683982683982684 k:3 recall:  0.573170731707317\n",
      "erro: 0.2727272727272727 k:4 recall:  0.4146341463414634\n",
      "erro: 0.2727272727272727 k:5 recall:  0.5487804878048781\n",
      "erro: 0.2554112554112554 k:6 recall:  0.43902439024390244\n",
      "erro: 0.27705627705627706 k:7 recall:  0.4878048780487805\n",
      "erro: 0.2683982683982684 k:8 recall:  0.4268292682926829\n",
      "erro: 0.2727272727272727 k:9 recall:  0.4634146341463415\n",
      "erro: 0.26406926406926406 k:10 recall:  0.43902439024390244\n",
      "erro: 0.2857142857142857 k:11 recall:  0.4634146341463415\n",
      "erro: 0.24675324675324675 k:12 recall:  0.45121951219512196\n",
      "erro: 0.2683982683982684 k:13 recall:  0.47560975609756095\n",
      "erro: 0.24675324675324675 k:14 recall:  0.45121951219512196\n",
      "erro: 0.24242424242424243 k:15 recall:  0.5121951219512195\n",
      "erro: 0.2510822510822511 k:16 recall:  0.45121951219512196\n",
      "erro: 0.2554112554112554 k:17 recall:  0.47560975609756095\n",
      "erro: 0.2683982683982684 k:18 recall:  0.4268292682926829\n",
      "erro: 0.2727272727272727 k:19 recall:  0.43902439024390244\n",
      "erro: 0.2727272727272727 k:20 recall:  0.4268292682926829\n",
      "erro: 0.2727272727272727 k:21 recall:  0.43902439024390244\n",
      "erro: 0.26406926406926406 k:22 recall:  0.4268292682926829\n",
      "erro: 0.2727272727272727 k:23 recall:  0.4268292682926829\n",
      "erro: 0.26406926406926406 k:24 recall:  0.4146341463414634\n",
      "erro: 0.2727272727272727 k:25 recall:  0.4268292682926829\n",
      "erro: 0.27705627705627706 k:26 recall:  0.3780487804878049\n",
      "erro: 0.2727272727272727 k:27 recall:  0.4146341463414634\n",
      "erro: 0.2857142857142857 k:28 recall:  0.3780487804878049\n",
      "erro: 0.27705627705627706 k:29 recall:  0.4024390243902439\n",
      "erro: 0.27705627705627706 k:30 recall:  0.3780487804878049\n",
      "erro: 0.27705627705627706 k:31 recall:  0.3902439024390244\n",
      "erro: 0.27705627705627706 k:32 recall:  0.3780487804878049\n",
      "erro: 0.2813852813852814 k:33 recall:  0.3780487804878049\n",
      "erro: 0.2683982683982684 k:34 recall:  0.3780487804878049\n",
      "erro: 0.26406926406926406 k:35 recall:  0.4146341463414634\n",
      "erro: 0.27705627705627706 k:36 recall:  0.3780487804878049\n",
      "erro: 0.26406926406926406 k:37 recall:  0.4146341463414634\n",
      "erro: 0.2813852813852814 k:38 recall:  0.36585365853658536\n",
      "erro: 0.2727272727272727 k:39 recall:  0.3902439024390244\n",
      "erro: 0.27705627705627706 k:40 recall:  0.36585365853658536\n",
      "erro: 0.2683982683982684 k:41 recall:  0.3902439024390244\n",
      "erro: 0.2813852813852814 k:42 recall:  0.35365853658536583\n",
      "erro: 0.2727272727272727 k:43 recall:  0.3780487804878049\n",
      "erro: 0.29004329004329005 k:44 recall:  0.32926829268292684\n",
      "erro: 0.2857142857142857 k:45 recall:  0.34146341463414637\n",
      "erro: 0.27705627705627706 k:46 recall:  0.34146341463414637\n",
      "erro: 0.27705627705627706 k:47 recall:  0.34146341463414637\n",
      "erro: 0.2813852813852814 k:48 recall:  0.32926829268292684\n",
      "erro: 0.2813852813852814 k:49 recall:  0.34146341463414637\n",
      "erro: 0.2857142857142857 k:50 recall:  0.32926829268292684\n",
      "erro: 0.2813852813852814 k:51 recall:  0.34146341463414637\n",
      "erro: 0.29004329004329005 k:52 recall:  0.3048780487804878\n",
      "erro: 0.2857142857142857 k:53 recall:  0.3170731707317073\n",
      "erro: 0.29004329004329005 k:54 recall:  0.2926829268292683\n",
      "erro: 0.2943722943722944 k:55 recall:  0.2926829268292683\n",
      "erro: 0.2857142857142857 k:56 recall:  0.2926829268292683\n",
      "erro: 0.29004329004329005 k:57 recall:  0.2926829268292683\n",
      "erro: 0.2813852813852814 k:58 recall:  0.2926829268292683\n",
      "erro: 0.2857142857142857 k:59 recall:  0.3048780487804878\n",
      "erro: 0.2813852813852814 k:60 recall:  0.3048780487804878\n",
      "erro: 0.2813852813852814 k:61 recall:  0.3048780487804878\n",
      "erro: 0.2857142857142857 k:62 recall:  0.2926829268292683\n",
      "erro: 0.29004329004329005 k:63 recall:  0.2926829268292683\n",
      "erro: 0.2813852813852814 k:64 recall:  0.2926829268292683\n",
      "erro: 0.2857142857142857 k:65 recall:  0.2926829268292683\n",
      "erro: 0.2813852813852814 k:66 recall:  0.2926829268292683\n",
      "erro: 0.2857142857142857 k:67 recall:  0.2926829268292683\n",
      "erro: 0.2813852813852814 k:68 recall:  0.2926829268292683\n",
      "erro: 0.2813852813852814 k:69 recall:  0.2926829268292683\n",
      "erro: 0.27705627705627706 k:70 recall:  0.2804878048780488\n",
      "erro: 0.27705627705627706 k:71 recall:  0.2926829268292683\n",
      "erro: 0.2857142857142857 k:72 recall:  0.2682926829268293\n",
      "erro: 0.2813852813852814 k:73 recall:  0.2804878048780488\n",
      "erro: 0.2857142857142857 k:74 recall:  0.2682926829268293\n",
      "erro: 0.2857142857142857 k:75 recall:  0.2682926829268293\n",
      "erro: 0.2813852813852814 k:76 recall:  0.2682926829268293\n",
      "erro: 0.29004329004329005 k:77 recall:  0.2682926829268293\n",
      "erro: 0.2857142857142857 k:78 recall:  0.2682926829268293\n",
      "erro: 0.2813852813852814 k:79 recall:  0.2804878048780488\n",
      "erro: 0.2857142857142857 k:80 recall:  0.2682926829268293\n",
      "erro: 0.2857142857142857 k:81 recall:  0.2682926829268293\n",
      "erro: 0.29004329004329005 k:82 recall:  0.25609756097560976\n",
      "erro: 0.2857142857142857 k:83 recall:  0.2682926829268293\n",
      "erro: 0.2857142857142857 k:84 recall:  0.2682926829268293\n",
      "erro: 0.2813852813852814 k:85 recall:  0.2926829268292683\n",
      "erro: 0.2813852813852814 k:86 recall:  0.2682926829268293\n",
      "erro: 0.2857142857142857 k:87 recall:  0.2804878048780488\n",
      "erro: 0.2857142857142857 k:88 recall:  0.25609756097560976\n",
      "erro: 0.2857142857142857 k:89 recall:  0.25609756097560976\n",
      "erro: 0.2857142857142857 k:90 recall:  0.24390243902439024\n",
      "erro: 0.29004329004329005 k:91 recall:  0.24390243902439024\n",
      "erro: 0.2943722943722944 k:92 recall:  0.23170731707317074\n",
      "erro: 0.29004329004329005 k:93 recall:  0.24390243902439024\n",
      "erro: 0.29004329004329005 k:94 recall:  0.24390243902439024\n",
      "erro: 0.29004329004329005 k:95 recall:  0.25609756097560976\n",
      "erro: 0.2943722943722944 k:96 recall:  0.23170731707317074\n",
      "erro: 0.29004329004329005 k:97 recall:  0.25609756097560976\n",
      "erro: 0.29004329004329005 k:98 recall:  0.25609756097560976\n",
      "erro: 0.29004329004329005 k:99 recall:  0.25609756097560976\n"
     ]
    }
   ],
   "source": [
    "error_rate = []\n",
    "recall = [] # procuramos positivos corretos\n",
    "for i in range(1,100):\n",
    "    \n",
    "    knn = KNeighborsClassifier(n_neighbors=i)\n",
    "    knn.fit(X_train,y_train)\n",
    "    pred_i = knn.predict(X_test)\n",
    "    \n",
    "    mc = confusion_matrix(y_test,pred_i)\n",
    "    recall.append( (i-1,mc[1][1]/(mc[1][1]+mc[1][0]) )) #encontrar um bom recall para 1\n",
    "#     txt = classification_report(y_test,pred_i).split('\\n')[3].strip().split(' ')\n",
    "#     [txt.remove(t) for t in txt if t=='']\n",
    "    \n",
    "    error_rate.append((i-1,np.mean(pred_i != y_test)))\n",
    "    \n",
    "    print('erro: '+str(error_rate[-1][1])+' k:'+str(i)+' recall: '+' '+str(recall[-1][1]))"
   ]
  },
  {
   "cell_type": "code",
   "execution_count": 19,
   "metadata": {},
   "outputs": [
    {
     "data": {
      "image/png": "[encoded data removed]",
      "text/plain": [
       "<Figure size 720x432 with 1 Axes>"
      ]
     },
     "metadata": {
      "needs_background": "light"
     },
     "output_type": "display_data"
    }
   ],
   "source": [
    "plt.figure(figsize=(10,6))\n",
    "\n",
    "plt.plot(range(1,100),[x for _,x in error_rate],color='blue', linestyle='dashed', marker='o',\n",
    "         markerfacecolor='red', markersize=10)\n",
    "plt.title('Taxa de erro vs. valor K')\n",
    "plt.xlabel('K')\n",
    "plt.ylabel('Taxa de erro')\n",
    "plt.show()"
   ]
  },
  {
   "cell_type": "code",
   "execution_count": 20,
   "metadata": {},
   "outputs": [
    {
     "data": {
      "image/png": "[encoded data removed]",
      "text/plain": [
       "<Figure size 720x432 with 1 Axes>"
      ]
     },
     "metadata": {
      "needs_background": "light"
     },
     "output_type": "display_data"
    },
    {
     "name": "stdout",
     "output_type": "stream",
     "text": [
      "[(14, 0.24242424242424243), (16, 0.2554112554112554)]\n",
      "[(14, 0.5121951219512195), (15, 0.45121951219512196)]\n",
      "15\n"
     ]
    }
   ],
   "source": [
    "plt.figure(figsize=(10,6))\n",
    "plt.plot(range(1,100),[x for _,x in recall],color='red', linestyle='dashed', marker='o',\n",
    "         markerfacecolor='red', markersize=10)\n",
    "plt.title('Recall de 0 vs. valor K')\n",
    "plt.xlabel('K')\n",
    "plt.ylabel('Recall')\n",
    "plt.show()\n",
    "error_rate.sort(key=lambda a:a[1])\n",
    "bounds = error_rate[5::-5]\n",
    "bounds.sort()\n",
    "print(bounds)\n",
    "i = error_rate.index(min(error_rate,key=lambda r:r[1]))\n",
    "\n",
    "itv=recall[bounds[0][0]:bounds[1][0]]\n",
    "print(itv)\n",
    "mxr = (max(itv,key=lambda r:r[1]) )#min erro maximo recall\n",
    "k,_ = mxr\n",
    "k+=1\n",
    "print(k)"
   ]
  },
  {
   "cell_type": "markdown",
   "metadata": {},
   "source": [
    "Aqui podemos ver que, depois de K> 40, a taxa de erro tende a ficar mais estável. Vamos treinar novamente o modelo e comparar como os resultados."
   ]
  },
  {
   "cell_type": "code",
   "execution_count": 21,
   "metadata": {},
   "outputs": [
    {
     "name": "stdout",
     "output_type": "stream",
     "text": [
      "K=1\n",
      "\n",
      "\n",
      "[[122  27]\n",
      " [ 37  45]]\n",
      "\n",
      "\n",
      "              precision    recall  f1-score   support\n",
      "\n",
      "           0       0.77      0.82      0.79       149\n",
      "           1       0.62      0.55      0.58        82\n",
      "\n",
      "    accuracy                           0.72       231\n",
      "   macro avg       0.70      0.68      0.69       231\n",
      "weighted avg       0.72      0.72      0.72       231\n",
      "\n",
      "0.55\n"
     ]
    }
   ],
   "source": [
    "# PRIMEIRA COMPARAÇÃO COM K = 1\n",
    "knn = KNeighborsClassifier(n_neighbors=1) # recall maximo\n",
    "\n",
    "knn.fit(X_train,y_train)\n",
    "pred = knn.predict(X_test)\n",
    "\n",
    "print('K=1')\n",
    "print('\\n')\n",
    "print(confusion_matrix(y_test,pred))\n",
    "print('\\n')\n",
    "print(classification_report(y_test,pred))\n",
    "txt = classification_report(y_test,pred).split('\\n')[3].strip().split(' ')\n",
    "[txt.remove(t) for t in txt if t=='']\n",
    "print(txt[2])"
   ]
  },
  {
   "cell_type": "code",
   "execution_count": 22,
   "metadata": {},
   "outputs": [
    {
     "name": "stdout",
     "output_type": "stream",
     "text": [
      "K=KNeighborsClassifier(n_neighbors=15)\n",
      "\n",
      "\n",
      "[[133  16]\n",
      " [ 40  42]]\n",
      "\n",
      "\n",
      "              precision    recall  f1-score   support\n",
      "\n",
      "           0       0.77      0.89      0.83       149\n",
      "           1       0.72      0.51      0.60        82\n",
      "\n",
      "    accuracy                           0.76       231\n",
      "   macro avg       0.75      0.70      0.71       231\n",
      "weighted avg       0.75      0.76      0.75       231\n",
      "\n"
     ]
    }
   ],
   "source": [
    "# AGORA COM K=40\n",
    "knn = KNeighborsClassifier(n_neighbors=k)\n",
    "\n",
    "knn.fit(X_train,y_train)\n",
    "pred = knn.predict(X_test)\n",
    "\n",
    "print('K={}'.format(knn))\n",
    "print('\\n')\n",
    "print(confusion_matrix(y_test,pred))\n",
    "print('\\n')\n",
    "print(classification_report(y_test,pred))"
   ]
  },
  {
   "cell_type": "markdown",
   "metadata": {},
   "source": [
    "# Bom trabalho!\n",
    "Conseguimos extrair um pouco mais de desempenho do nosso modelo, ajustando para um valor K melhor!"
   ]
  },
  {
   "cell_type": "markdown",
   "metadata": {},
   "source": [
    "Para achar um melhor valor para o K defini um intervalo entre os cinco valores mais baixos de erro, priorizando assim estabilidade. Pelo fato do modelo tender a viciar na resposta 0 defini que neste intervalo o valor de recall deveria priorizar a resposta 1 com recall mais alto. Em média o K fica aproximado do valor 20."
   ]
  },
  {
   "cell_type": "code",
   "execution_count": null,
   "metadata": {},
   "outputs": [],
   "source": []
  }
 ],
 "metadata": {
  "kernelspec": {
   "display_name": "Python 3",
   "language": "python",
   "name": "python3"
  },
  "language_info": {
   "codemirror_mode": {
    "name": "ipython",
    "version": 3
   },
   "file_extension": ".py",
   "mimetype": "text/x-python",
   "name": "python",
   "nbconvert_exporter": "python",
   "pygments_lexer": "ipython3",
   "version": "3.8.5"
  }
 },
 "nbformat": 4,
 "nbformat_minor": 1
}
